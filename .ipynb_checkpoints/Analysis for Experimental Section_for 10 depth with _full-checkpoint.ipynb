{
 "cells": [
  {
   "cell_type": "code",
   "execution_count": 1,
   "metadata": {},
   "outputs": [],
   "source": [
    "import pandas as pd\n",
    "import matplotlib.pyplot as plt"
   ]
  },
  {
   "cell_type": "markdown",
   "metadata": {},
   "source": [
    "# Top 10 groups for Each wave"
   ]
  },
  {
   "cell_type": "code",
   "execution_count": 2,
   "metadata": {},
   "outputs": [],
   "source": [
    "rules = [{'year': 0, 'results': [{'subgroup': \"Hindsight=='Wrong'\", 'penalty': 0.9656797341818235, 'old quality': 0.18705360991978387, 'new_quality': 0.1806338803050874}, {'subgroup': \"EURef2016=='Remain' AND Hindsight=='Wrong'\", 'penalty': 0.9470272248311299, 'old quality': 0.1748036927263995, 'new_quality': 0.16554385601291569}, {'subgroup': \"EURef2016=='Remain'\", 'penalty': 0.9434793967391196, 'old quality': 0.15859778456703164, 'new_quality': 0.14963374210746386}, {'subgroup': \"Hindsight=='Wrong' AND sex=='Woman'\", 'penalty': 0.9409357260156487, 'old quality': 0.11069167029819355, 'new_quality': 0.10415374715591556}, {'subgroup': \"Hindsight=='Wrong' AND Poscountry=='Very negative effect'\", 'penalty': 0.899846458370765, 'old quality': 0.10720072284615995, 'new_quality': 0.09646419078790298}, {'subgroup': \"Poscountry=='Very negative effect'\", 'penalty': 0.8994775812001404, 'old quality': 0.1067286568630396, 'new_quality': 0.09600003411990662}, {'subgroup': \"EURef2016=='Remain' AND Hindsight=='Wrong' AND sex=='Woman'\", 'penalty': 0.9405253529757319, 'old quality': 0.10353343339051443, 'new_quality': 0.09737581898440302}, {'subgroup': \"EURef2016=='Remain' AND Hindsight=='Wrong' AND Poscountry=='Very negative effect'\", 'penalty': 0.9201414616714412, 'old quality': 0.10038775733935809, 'new_quality': 0.0923709377721549}, {'subgroup': \"EURef2016=='Remain' AND Poscountry=='Very negative effect'\", 'penalty': 0.9174389657873118, 'old quality': 0.10038775733935809, 'new_quality': 0.0920996402711283}, {'subgroup': \"EURef2016=='Remain' AND sex=='Woman'\", 'penalty': 0.9451038468455941, 'old quality': 0.0952980277395335, 'new_quality': 0.09006653261343124}]}, {'year': 1, 'results': [{'subgroup': \"Hindsight=='Wrong'\", 'penalty': 0.9656797341818235, 'old quality': 0.19412720966705022, 'new_quality': 0.18746471222873617}, {'subgroup': \"EURef2016=='Remain' AND Hindsight=='Wrong'\", 'penalty': 0.9470272248311299, 'old quality': 0.18370998849355677, 'new_quality': 0.17397836057681187}, {'subgroup': \"EURef2016=='Remain'\", 'penalty': 0.9434793967391196, 'old quality': 0.172531130866341, 'new_quality': 0.16277956726849352}, {'subgroup': \"Hindsight=='Wrong' AND Poscountry=='Very negative effect'\", 'penalty': 0.899846458370765, 'old quality': 0.12267260688502976, 'new_quality': 0.11038651084460316}, {'subgroup': \"Poscountry=='Very negative effect'\", 'penalty': 0.8994775812001404, 'old quality': 0.12112067024007928, 'new_quality': 0.10894532750088634}, {'subgroup': \"EURef2016=='Remain' AND Hindsight=='Wrong' AND Poscountry=='Very negative effect'\", 'penalty': 0.9201414616714412, 'old quality': 0.11450753651555418, 'new_quality': 0.10536313202181795}, {'subgroup': \"EURef2016=='Remain' AND Poscountry=='Very negative effect'\", 'penalty': 0.9174389657873118, 'old quality': 0.11430689035301439, 'new_quality': 0.10486959526783317}, {'subgroup': \"Hindsight=='Wrong' AND sex=='Woman'\", 'penalty': 0.9409357260156487, 'old quality': 0.11258297128302985, 'new_quality': 0.10593333982119663}, {'subgroup': \"Govthand=='Very badly' AND Hindsight=='Wrong'\", 'penalty': 0.7977758987995128, 'old quality': 0.11257887646338617, 'new_quality': 0.08981271435641722}, {'subgroup': \"EURef2016=='Remain' AND Hindsight=='Wrong' AND sex=='Woman'\", 'penalty': 0.9405253529757319, 'old quality': 0.1080459111178448, 'new_quality': 0.10161991869169554}]}, {'year': 2, 'results': [{'subgroup': \"Hindsight=='Wrong'\", 'penalty': 0.9656797341818235, 'old quality': 0.18423677643893946, 'new_quality': 0.1779137212980711}, {'subgroup': \"Hindsight=='Wrong' AND profile_gross_household=='Not Asked or missing'\", 'penalty': 0.5453338038309334, 'old quality': 0.18423677643893946, 'new_quality': 0.10047054210099615}, {'subgroup': \"EURef2016=='Remain' AND Hindsight=='Wrong'\", 'penalty': 0.9470272248311299, 'old quality': 0.17807562644073185, 'new_quality': 0.16864246631823127}, {'subgroup': \"EURef2016=='Remain' AND Hindsight=='Wrong' AND profile_gross_household=='Not Asked or missing'\", 'penalty': 0.5385546376326212, 'old quality': 0.17807562644073185, 'new_quality': 0.09590345446899037}, {'subgroup': \"EURef2016=='Remain' AND profile_gross_household=='Not Asked or missing'\", 'penalty': 0.5333327505569881, 'old quality': 0.17276625192292405, 'new_quality': 0.09214190034147463}, {'subgroup': \"EURef2016=='Remain'\", 'penalty': 0.9434793967391196, 'old quality': 0.17276625192292405, 'new_quality': 0.16300139914111916}, {'subgroup': \"Hindsight=='Wrong' AND Poscountry=='Very negative effect'\", 'penalty': 0.899846458370765, 'old quality': 0.12432571021553895, 'new_quality': 0.11187405002188278}, {'subgroup': \"Hindsight=='Wrong' AND Poscountry=='Very negative effect' AND profile_gross_household=='Not Asked or missing'\", 'penalty': 0.5139335146219264, 'old quality': 0.12432571021553895, 'new_quality': 0.06389514920893907}, {'subgroup': \"Poscountry=='Very negative effect' AND profile_gross_household=='Not Asked or missing'\", 'penalty': 0.5140418808038222, 'old quality': 0.1238674815033019, 'new_quality': 0.06367307316238996}, {'subgroup': \"Poscountry=='Very negative effect'\", 'penalty': 0.8994775812001404, 'old quality': 0.1238674815033019, 'new_quality': 0.11141602265194313}]}, {'year': 3, 'results': [{'subgroup': \"Hindsight=='Wrong' AND profile_gross_household=='Not Asked or missing'\", 'penalty': 0.5453338038309334, 'old quality': 0.20290040561019212, 'new_quality': 0.11064844999024534}, {'subgroup': \"Hindsight=='Wrong' AND profile_gross_household=='Not Asked or missing' AND profile_gross_personal=='Not Asked or missing'\", 'penalty': 0.5196443932065627, 'old quality': 0.20290040561019212, 'new_quality': 0.10543605815467375}, {'subgroup': \"Hindsight=='Wrong'\", 'penalty': 0.9656797341818235, 'old quality': 0.20290040561019212, 'new_quality': 0.1959368097550345}, {'subgroup': \"Hindsight=='Wrong' AND profile_gross_personal=='Not Asked or missing'\", 'penalty': 0.431939529960045, 'old quality': 0.20290040561019212, 'new_quality': 0.08764070582796886}, {'subgroup': \"EURef2016=='Remain' AND Hindsight=='Wrong'\", 'penalty': 0.9470272248311299, 'old quality': 0.1874738749729389, 'new_quality': 0.17754286354396054}, {'subgroup': \"EURef2016=='Remain' AND Hindsight=='Wrong' AND profile_gross_personal=='Not Asked or missing'\", 'penalty': 0.4228701565577491, 'old quality': 0.1874738749729389, 'new_quality': 0.07927710686029456}, {'subgroup': \"EURef2016=='Remain' AND Hindsight=='Wrong' AND profile_gross_household=='Not Asked or missing' AND profile_gross_personal=='Not Asked or missing'\", 'penalty': 0.4969191194943739, 'old quality': 0.1874738749729389, 'new_quality': 0.09315935287975115}, {'subgroup': \"EURef2016=='Remain' AND Hindsight=='Wrong' AND profile_gross_household=='Not Asked or missing'\", 'penalty': 0.5385546376326212, 'old quality': 0.1874738749729389, 'new_quality': 0.10096492480163445}, {'subgroup': \"EURef2016=='Remain' AND profile_gross_personal=='Not Asked or missing'\", 'penalty': 0.4222696010057935, 'old quality': 0.17560579427570872, 'new_quality': 0.07415298868310898}, {'subgroup': \"EURef2016=='Remain'\", 'penalty': 0.9434793967391196, 'old quality': 0.17560579427570872, 'new_quality': 0.16568044884713962}]}, {'year': 4, 'results': [{'subgroup': \"Hindsight=='Wrong'\", 'penalty': 0.9656797341818235, 'old quality': 0.18635935131002182, 'new_quality': 0.17996344883535895}, {'subgroup': \"Hindsight=='Wrong' AND profile_gross_household=='Not Asked or missing'\", 'penalty': 0.5453338038309334, 'old quality': 0.18635935131002182, 'new_quality': 0.10162805392935945}, {'subgroup': \"EURef2016=='Remain' AND Hindsight=='Wrong'\", 'penalty': 0.9470272248311299, 'old quality': 0.1689322159809199, 'new_quality': 0.15998340768498362}, {'subgroup': \"EURef2016=='Remain' AND Hindsight=='Wrong' AND profile_gross_household=='Not Asked or missing'\", 'penalty': 0.5385546376326212, 'old quality': 0.1689322159809199, 'new_quality': 0.09097922836208003}, {'subgroup': \"EURef2016=='Remain'\", 'penalty': 0.9434793967391196, 'old quality': 0.1594370374231965, 'new_quality': 0.1504255598859099}, {'subgroup': \"EURef2016=='Remain' AND profile_gross_household=='Not Asked or missing'\", 'penalty': 0.5333327505569881, 'old quality': 0.1594370374231965, 'new_quality': 0.08503299370957085}, {'subgroup': \"Hindsight=='Wrong' AND Poscountry=='Very negative effect'\", 'penalty': 0.899846458370765, 'old quality': 0.11711999374421665, 'new_quality': 0.10539001157513951}, {'subgroup': \"Hindsight=='Wrong' AND Poscountry=='Very negative effect' AND profile_gross_household=='Not Asked or missing'\", 'penalty': 0.5139335146219264, 'old quality': 0.11711999374421665, 'new_quality': 0.06019189001746329}, {'subgroup': \"Poscountry=='Very negative effect' AND profile_gross_household=='Not Asked or missing'\", 'penalty': 0.5140418808038222, 'old quality': 0.11642707885328016, 'new_quality': 0.05984839459023505}, {'subgroup': \"Poscountry=='Very negative effect'\", 'penalty': 0.8994775812001404, 'old quality': 0.11642707885328016, 'new_quality': 0.10472354727314645}]}, {'year': 5, 'results': [{'subgroup': \"Hindsight=='Wrong' AND profile_gross_household=='Not Asked or missing'\", 'penalty': 0.5453338038309334, 'old quality': 0.19465067337922737, 'new_quality': 0.10614959213214667}, {'subgroup': \"GEvote2015=='Missing' AND Hindsight=='Wrong'\", 'penalty': 0.4890566333820936, 'old quality': 0.19465067337922737, 'new_quality': 0.09519520300840245}, {'subgroup': \"GEvote2015=='Missing' AND Hindsight=='Wrong' AND profile_gross_household=='Not Asked or missing'\", 'penalty': 0.4709870022386129, 'old quality': 0.19465067337922737, 'new_quality': 0.09167793713860967}, {'subgroup': \"Hindsight=='Wrong'\", 'penalty': 0.9656797341818235, 'old quality': 0.19465067337922737, 'new_quality': 0.18797021052716523}, {'subgroup': \"EURef2016=='Remain' AND Hindsight=='Wrong'\", 'penalty': 0.9470272248311299, 'old quality': 0.17079704864738163, 'new_quality': 0.1617494549898773}, {'subgroup': \"EURef2016=='Remain' AND GEvote2015=='Missing' AND Hindsight=='Wrong'\", 'penalty': 0.4888918906366658, 'old quality': 0.17079704864738163, 'new_quality': 0.083501292028381}, {'subgroup': \"EURef2016=='Remain' AND GEvote2015=='Missing' AND Hindsight=='Wrong' AND profile_gross_household=='Not Asked or missing'\", 'penalty': 0.47193035280625584, 'old quality': 0.17079704864738163, 'new_quality': 0.08060431142642606}, {'subgroup': \"EURef2016=='Remain' AND Hindsight=='Wrong' AND profile_gross_household=='Not Asked or missing'\", 'penalty': 0.5385546376326212, 'old quality': 0.17079704864738163, 'new_quality': 0.0919835426430118}, {'subgroup': \"EURef2016=='Remain' AND profile_gross_household=='Not Asked or missing'\", 'penalty': 0.5333327505569881, 'old quality': 0.16239445806093278, 'new_quality': 0.08661028299284873}, {'subgroup': \"EURef2016=='Remain'\", 'penalty': 0.9434793967391196, 'old quality': 0.16239445806093278, 'new_quality': 0.1532158253251051}]}, {'year': 6, 'results': [{'subgroup': \"Hindsight=='Wrong'\", 'penalty': 0.9656797341818235, 'old quality': 0.19424669727367042, 'new_quality': 0.18758009898893518}, {'subgroup': \"Hindsight=='Wrong' AND profile_gross_household=='Not Asked or missing'\", 'penalty': 0.5453338038309334, 'old quality': 0.19424669727367042, 'new_quality': 0.1059292903058465}, {'subgroup': \"EURef2016=='Remain' AND Hindsight=='Wrong'\", 'penalty': 0.9470272248311299, 'old quality': 0.16661748895197204, 'new_quality': 0.1577912981705175}, {'subgroup': \"EURef2016=='Remain' AND Hindsight=='Wrong' AND profile_gross_household=='Not Asked or missing'\", 'penalty': 0.5385546376326212, 'old quality': 0.16661748895197204, 'new_quality': 0.08973262138578657}, {'subgroup': \"EURef2016=='Remain'\", 'penalty': 0.9434793967391196, 'old quality': 0.1555150074934778, 'new_quality': 0.1467252054538261}, {'subgroup': \"EURef2016=='Remain' AND profile_gross_household=='Not Asked or missing'\", 'penalty': 0.5333327505569881, 'old quality': 0.1555150074934778, 'new_quality': 0.08294124669938714}, {'subgroup': \"Hindsight=='Wrong' AND Poscountry=='Very negative effect' AND profile_gross_household=='Not Asked or missing'\", 'penalty': 0.5139335146219264, 'old quality': 0.1266799088497653, 'new_quality': 0.06510505078714515}, {'subgroup': \"Hindsight=='Wrong' AND Poscountry=='Very negative effect'\", 'penalty': 0.899846458370765, 'old quality': 0.1266799088497653, 'new_quality': 0.11399246732519264}, {'subgroup': \"Poscountry=='Very negative effect' AND profile_gross_household=='Not Asked or missing'\", 'penalty': 0.5140418808038222, 'old quality': 0.12586291815660067, 'new_quality': 0.06469881117267655}, {'subgroup': \"Poscountry=='Very negative effect'\", 'penalty': 0.8994775812001404, 'old quality': 0.12586291815660067, 'new_quality': 0.1132108731862904}]}, {'year': 7, 'results': [{'subgroup': \"Hindsight=='Wrong'\", 'penalty': 0.9656797341818235, 'old quality': 0.19961158673534105, 'new_quality': 0.19276086401819614}, {'subgroup': \"Hindsight=='Wrong' AND profile_gross_household=='Not Asked or missing'\", 'penalty': 0.5453338038309334, 'old quality': 0.19961158673534105, 'new_quality': 0.10885494588311183}, {'subgroup': \"EURef2016=='Remain' AND Hindsight=='Wrong'\", 'penalty': 0.9470272248311299, 'old quality': 0.1745831476397755, 'new_quality': 0.16533499381158}, {'subgroup': \"EURef2016=='Remain' AND Hindsight=='Wrong' AND profile_gross_household=='Not Asked or missing'\", 'penalty': 0.5385546376326212, 'old quality': 0.1745831476397755, 'new_quality': 0.09402256381390171}, {'subgroup': \"EURef2016=='Remain' AND profile_gross_household=='Not Asked or missing'\", 'penalty': 0.5333327505569881, 'old quality': 0.1593487011852054, 'new_quality': 0.08498588110078918}, {'subgroup': \"EURef2016=='Remain'\", 'penalty': 0.9434793967391196, 'old quality': 0.1593487011852054, 'new_quality': 0.15034221646537982}, {'subgroup': \"Govthand=='Very badly' AND Hindsight=='Wrong' AND profile_gross_household=='Not Asked or missing'\", 'penalty': 0.46662381278822507, 'old quality': 0.1529913677650455, 'new_quality': 0.07138941535021108}, {'subgroup': \"Govthand=='Very badly' AND Hindsight=='Wrong'\", 'penalty': 0.7977758987995128, 'old quality': 0.1529913677650455, 'new_quality': 0.12205282592732598}, {'subgroup': \"Hindsight=='Wrong' AND Poscountry=='Very negative effect' AND profile_gross_household=='Not Asked or missing'\", 'penalty': 0.5139335146219264, 'old quality': 0.14248625641561347, 'new_quality': 0.07322846254499724}, {'subgroup': \"Hindsight=='Wrong' AND Poscountry=='Very negative effect'\", 'penalty': 0.899846458370765, 'old quality': 0.14248625641561347, 'new_quality': 0.12821575320209846}]}, {'year': 8, 'results': [{'subgroup': \"Hindsight=='Wrong' AND profile_gross_household=='Not Asked or missing'\", 'penalty': 0.5453338038309334, 'old quality': 0.19228998142426196, 'new_quality': 0.1048622270086723}, {'subgroup': \"Hindsight=='Wrong'\", 'penalty': 0.9656797341818235, 'old quality': 0.19228998142426196, 'new_quality': 0.18569053814760908}, {'subgroup': \"Govthand=='Very badly' AND Hindsight=='Wrong'\", 'penalty': 0.7977758987995128, 'old quality': 0.1717658701621152, 'new_quality': 0.13703067145166187}, {'subgroup': \"Govthand=='Very badly' AND Hindsight=='Wrong' AND profile_gross_household=='Not Asked or missing'\", 'penalty': 0.46662381278822507, 'old quality': 0.1717658701621152, 'new_quality': 0.08015004524193342}, {'subgroup': \"EURef2016=='Remain' AND Hindsight=='Wrong'\", 'penalty': 0.9470272248311299, 'old quality': 0.16109884131497454, 'new_quality': 0.15256498861403092}, {'subgroup': \"EURef2016=='Remain' AND Hindsight=='Wrong' AND profile_gross_household=='Not Asked or missing'\", 'penalty': 0.5385546376326212, 'old quality': 0.16109884131497454, 'new_quality': 0.08676052810742127}, {'subgroup': \"EURef2016=='Remain' AND profile_gross_household=='Not Asked or missing'\", 'penalty': 0.5333327505569881, 'old quality': 0.15004038286850752, 'new_quality': 0.08002145008988472}, {'subgroup': \"EURef2016=='Remain'\", 'penalty': 0.9434793967391196, 'old quality': 0.15004038286850752, 'new_quality': 0.141560009915286}, {'subgroup': \"Poscountry=='Very negative effect' AND profile_gross_household=='Not Asked or missing'\", 'penalty': 0.5140418808038222, 'old quality': 0.14943301842198936, 'new_quality': 0.07681482984383162}, {'subgroup': \"Poscountry=='Very negative effect'\", 'penalty': 0.8994775812001404, 'old quality': 0.14943301842198936, 'new_quality': 0.134411649961647}]}, {'year': 9, 'results': [{'subgroup': \"GEvote2015=='Missing' AND Hindsight=='Wrong'\", 'penalty': 0.4890566333820936, 'old quality': 0.19304452607440126, 'new_quality': 0.09440970601478846}, {'subgroup': \"Hindsight=='Wrong' AND profile_gross_personal=='Not Asked or missing'\", 'penalty': 0.431939529960045, 'old quality': 0.19304452607440126, 'new_quality': 0.08338356185393653}, {'subgroup': \"Hindsight=='Wrong'\", 'penalty': 0.9656797341818235, 'old quality': 0.19304452607440126, 'new_quality': 0.1864191866247839}, {'subgroup': \"GEvote2015=='Missing' AND Hindsight=='Wrong' AND profile_gross_personal=='Not Asked or missing'\", 'penalty': 0.4699106612969765, 'old quality': 0.19304452607440126, 'new_quality': 0.09071368090738331}, {'subgroup': \"EURef2016=='Remain' AND GEvote2015=='Missing' AND Hindsight=='Wrong' AND profile_gross_personal=='Not Asked or missing'\", 'penalty': 0.47001879310513195, 'old quality': 0.16754342194666214, 'new_quality': 0.07874855697607401}, {'subgroup': \"EURef2016=='Remain' AND Hindsight=='Wrong'\", 'penalty': 0.9470272248311299, 'old quality': 0.16754342194666214, 'new_quality': 0.15866818192485846}, {'subgroup': \"EURef2016=='Remain' AND GEvote2015=='Missing' AND Hindsight=='Wrong'\", 'penalty': 0.4888918906366658, 'old quality': 0.16754342194666214, 'new_quality': 0.0819106203192403}, {'subgroup': \"EURef2016=='Remain' AND Hindsight=='Wrong' AND profile_gross_personal=='Not Asked or missing'\", 'penalty': 0.4228701565577491, 'old quality': 0.16754342194666214, 'new_quality': 0.07084911306880604}, {'subgroup': \"EURef2016=='Remain' AND profile_gross_personal=='Not Asked or missing'\", 'penalty': 0.4222696010057935, 'old quality': 0.15818866934407536, 'new_quality': 0.0667982662875601}, {'subgroup': \"EURef2016=='Remain'\", 'penalty': 0.9434793967391196, 'old quality': 0.15818866934407536, 'new_quality': 0.1492477503237123}]}]"
   ]
  },
  {
   "cell_type": "code",
   "execution_count": 3,
   "metadata": {},
   "outputs": [
    {
     "data": {
      "text/plain": [
       "{'subgroup': \"Hindsight=='Wrong'\",\n",
       " 'penalty': 0.9656797341818235,\n",
       " 'old quality': 0.19412720966705022,\n",
       " 'new_quality': 0.18746471222873617}"
      ]
     },
     "execution_count": 3,
     "metadata": {},
     "output_type": "execute_result"
    }
   ],
   "source": [
    "rules[1]['results'][0]"
   ]
  },
  {
   "cell_type": "code",
   "execution_count": 4,
   "metadata": {},
   "outputs": [],
   "source": [
    "table1 = [[\"Year\",\"Subgroup\", \"Penalty\", \"Old Quality\", \"New Quality\"]]\n",
    "for year in rules:\n",
    "    for rule in year[\"results\"]:\n",
    "        row = [year[\"year\"], rule[\"subgroup\"], rule[\"penalty\"],rule[\"old quality\"],rule[\"new_quality\"]]\n",
    "        table1.append(row)"
   ]
  },
  {
   "cell_type": "code",
   "execution_count": 5,
   "metadata": {},
   "outputs": [],
   "source": [
    "dataframe1 = pd.DataFrame(table1[1:],columns=table1[0])"
   ]
  },
  {
   "cell_type": "code",
   "execution_count": 6,
   "metadata": {},
   "outputs": [
    {
     "data": {
      "text/html": [
       "<div>\n",
       "<style scoped>\n",
       "    .dataframe tbody tr th:only-of-type {\n",
       "        vertical-align: middle;\n",
       "    }\n",
       "\n",
       "    .dataframe tbody tr th {\n",
       "        vertical-align: top;\n",
       "    }\n",
       "\n",
       "    .dataframe thead th {\n",
       "        text-align: right;\n",
       "    }\n",
       "</style>\n",
       "<table border=\"1\" class=\"dataframe\">\n",
       "  <thead>\n",
       "    <tr style=\"text-align: right;\">\n",
       "      <th></th>\n",
       "      <th>Year</th>\n",
       "      <th>Subgroup</th>\n",
       "      <th>Penalty</th>\n",
       "      <th>Old Quality</th>\n",
       "      <th>New Quality</th>\n",
       "    </tr>\n",
       "  </thead>\n",
       "  <tbody>\n",
       "    <tr>\n",
       "      <th>0</th>\n",
       "      <td>0</td>\n",
       "      <td>Hindsight=='Wrong'</td>\n",
       "      <td>0.965680</td>\n",
       "      <td>0.187054</td>\n",
       "      <td>0.180634</td>\n",
       "    </tr>\n",
       "    <tr>\n",
       "      <th>1</th>\n",
       "      <td>0</td>\n",
       "      <td>EURef2016=='Remain' AND Hindsight=='Wrong'</td>\n",
       "      <td>0.947027</td>\n",
       "      <td>0.174804</td>\n",
       "      <td>0.165544</td>\n",
       "    </tr>\n",
       "    <tr>\n",
       "      <th>2</th>\n",
       "      <td>0</td>\n",
       "      <td>EURef2016=='Remain'</td>\n",
       "      <td>0.943479</td>\n",
       "      <td>0.158598</td>\n",
       "      <td>0.149634</td>\n",
       "    </tr>\n",
       "    <tr>\n",
       "      <th>3</th>\n",
       "      <td>0</td>\n",
       "      <td>Hindsight=='Wrong' AND sex=='Woman'</td>\n",
       "      <td>0.940936</td>\n",
       "      <td>0.110692</td>\n",
       "      <td>0.104154</td>\n",
       "    </tr>\n",
       "    <tr>\n",
       "      <th>4</th>\n",
       "      <td>0</td>\n",
       "      <td>Hindsight=='Wrong' AND Poscountry=='Very negat...</td>\n",
       "      <td>0.899846</td>\n",
       "      <td>0.107201</td>\n",
       "      <td>0.096464</td>\n",
       "    </tr>\n",
       "    <tr>\n",
       "      <th>...</th>\n",
       "      <td>...</td>\n",
       "      <td>...</td>\n",
       "      <td>...</td>\n",
       "      <td>...</td>\n",
       "      <td>...</td>\n",
       "    </tr>\n",
       "    <tr>\n",
       "      <th>95</th>\n",
       "      <td>9</td>\n",
       "      <td>EURef2016=='Remain' AND Hindsight=='Wrong'</td>\n",
       "      <td>0.947027</td>\n",
       "      <td>0.167543</td>\n",
       "      <td>0.158668</td>\n",
       "    </tr>\n",
       "    <tr>\n",
       "      <th>96</th>\n",
       "      <td>9</td>\n",
       "      <td>EURef2016=='Remain' AND GEvote2015=='Missing' ...</td>\n",
       "      <td>0.488892</td>\n",
       "      <td>0.167543</td>\n",
       "      <td>0.081911</td>\n",
       "    </tr>\n",
       "    <tr>\n",
       "      <th>97</th>\n",
       "      <td>9</td>\n",
       "      <td>EURef2016=='Remain' AND Hindsight=='Wrong' AND...</td>\n",
       "      <td>0.422870</td>\n",
       "      <td>0.167543</td>\n",
       "      <td>0.070849</td>\n",
       "    </tr>\n",
       "    <tr>\n",
       "      <th>98</th>\n",
       "      <td>9</td>\n",
       "      <td>EURef2016=='Remain' AND profile_gross_personal...</td>\n",
       "      <td>0.422270</td>\n",
       "      <td>0.158189</td>\n",
       "      <td>0.066798</td>\n",
       "    </tr>\n",
       "    <tr>\n",
       "      <th>99</th>\n",
       "      <td>9</td>\n",
       "      <td>EURef2016=='Remain'</td>\n",
       "      <td>0.943479</td>\n",
       "      <td>0.158189</td>\n",
       "      <td>0.149248</td>\n",
       "    </tr>\n",
       "  </tbody>\n",
       "</table>\n",
       "<p>100 rows × 5 columns</p>\n",
       "</div>"
      ],
      "text/plain": [
       "    Year                                           Subgroup   Penalty  \\\n",
       "0      0                                 Hindsight=='Wrong'  0.965680   \n",
       "1      0         EURef2016=='Remain' AND Hindsight=='Wrong'  0.947027   \n",
       "2      0                                EURef2016=='Remain'  0.943479   \n",
       "3      0                Hindsight=='Wrong' AND sex=='Woman'  0.940936   \n",
       "4      0  Hindsight=='Wrong' AND Poscountry=='Very negat...  0.899846   \n",
       "..   ...                                                ...       ...   \n",
       "95     9         EURef2016=='Remain' AND Hindsight=='Wrong'  0.947027   \n",
       "96     9  EURef2016=='Remain' AND GEvote2015=='Missing' ...  0.488892   \n",
       "97     9  EURef2016=='Remain' AND Hindsight=='Wrong' AND...  0.422870   \n",
       "98     9  EURef2016=='Remain' AND profile_gross_personal...  0.422270   \n",
       "99     9                                EURef2016=='Remain'  0.943479   \n",
       "\n",
       "    Old Quality  New Quality  \n",
       "0      0.187054     0.180634  \n",
       "1      0.174804     0.165544  \n",
       "2      0.158598     0.149634  \n",
       "3      0.110692     0.104154  \n",
       "4      0.107201     0.096464  \n",
       "..          ...          ...  \n",
       "95     0.167543     0.158668  \n",
       "96     0.167543     0.081911  \n",
       "97     0.167543     0.070849  \n",
       "98     0.158189     0.066798  \n",
       "99     0.158189     0.149248  \n",
       "\n",
       "[100 rows x 5 columns]"
      ]
     },
     "execution_count": 6,
     "metadata": {},
     "output_type": "execute_result"
    }
   ],
   "source": [
    "dataframe1"
   ]
  },
  {
   "cell_type": "code",
   "execution_count": 78,
   "metadata": {},
   "outputs": [],
   "source": [
    "dataframe1.to_csv(\"./analysis output/Random data/\"+'File 1R_full output of top 10 for 10 waves.csv')"
   ]
  },
  {
   "cell_type": "code",
   "execution_count": 7,
   "metadata": {},
   "outputs": [
    {
     "data": {
      "text/plain": [
       "28"
      ]
     },
     "execution_count": 7,
     "metadata": {},
     "output_type": "execute_result"
    }
   ],
   "source": [
    "unique = pd.unique(dataframe1[\"Subgroup\"])\n",
    "len(unique)"
   ]
  },
  {
   "cell_type": "markdown",
   "metadata": {},
   "source": [
    "### Making a General Over view of basic statistics"
   ]
  },
  {
   "cell_type": "code",
   "execution_count": 8,
   "metadata": {},
   "outputs": [
    {
     "data": {
      "text/plain": [
       "[['Maximum', 'Minimum', 'Range', 'Number of Unique rules'],\n",
       " [0.9656797341818235, 0.4222696010057935, 0.5434101331760299, 28]]"
      ]
     },
     "execution_count": 8,
     "metadata": {},
     "output_type": "execute_result"
    }
   ],
   "source": [
    "overview_stats = [[\"Maximum\", \"Minimum\", \"Range\",\"Number of Unique rules\"]]\n",
    "row = [dataframe1[\"Penalty\"].max(),dataframe1[\"Penalty\"].min(),dataframe1[\"Penalty\"].max()-dataframe1[\"Penalty\"].min(),len(unique)]\n",
    "overview_stats.append(row)\n",
    "overview_stats"
   ]
  },
  {
   "cell_type": "code",
   "execution_count": 9,
   "metadata": {},
   "outputs": [],
   "source": [
    "df_stats = pd.DataFrame(overview_stats,columns=overview_stats[0])"
   ]
  },
  {
   "cell_type": "code",
   "execution_count": 10,
   "metadata": {},
   "outputs": [
    {
     "data": {
      "text/html": [
       "<div>\n",
       "<style scoped>\n",
       "    .dataframe tbody tr th:only-of-type {\n",
       "        vertical-align: middle;\n",
       "    }\n",
       "\n",
       "    .dataframe tbody tr th {\n",
       "        vertical-align: top;\n",
       "    }\n",
       "\n",
       "    .dataframe thead th {\n",
       "        text-align: right;\n",
       "    }\n",
       "</style>\n",
       "<table border=\"1\" class=\"dataframe\">\n",
       "  <thead>\n",
       "    <tr style=\"text-align: right;\">\n",
       "      <th></th>\n",
       "      <th>Maximum</th>\n",
       "      <th>Minimum</th>\n",
       "      <th>Range</th>\n",
       "      <th>Number of Unique rules</th>\n",
       "    </tr>\n",
       "  </thead>\n",
       "  <tbody>\n",
       "    <tr>\n",
       "      <th>1</th>\n",
       "      <td>0.96568</td>\n",
       "      <td>0.42227</td>\n",
       "      <td>0.54341</td>\n",
       "      <td>28</td>\n",
       "    </tr>\n",
       "  </tbody>\n",
       "</table>\n",
       "</div>"
      ],
      "text/plain": [
       "   Maximum  Minimum    Range Number of Unique rules\n",
       "1  0.96568  0.42227  0.54341                     28"
      ]
     },
     "execution_count": 10,
     "metadata": {},
     "output_type": "execute_result"
    }
   ],
   "source": [
    "df_stats.drop(0)"
   ]
  },
  {
   "cell_type": "code",
   "execution_count": 80,
   "metadata": {},
   "outputs": [],
   "source": [
    "df_stats.to_csv(\"./analysis output/Random data/\"+'File 2R_overview of penalties of top 10 for 10 waves.csv')"
   ]
  },
  {
   "cell_type": "markdown",
   "metadata": {},
   "source": [
    "# Top 10 of Wave 1"
   ]
  },
  {
   "cell_type": "code",
   "execution_count": 11,
   "metadata": {},
   "outputs": [],
   "source": [
    "top10 = [[\"Subgroup\", \"Wave1\",\"Wave2\",\"Wave3\",\"Wave4\",\"Wave5\",\"Wave6\",\"Wave7\",\"Wave8\",\"Wave9\",\"Wave10\",\"Penalty\"]]\n",
    "row1 = [\"Hindsight=='Wrong'\",0.18705360991978387, 0.19412720966705022, 0.18423677643893946, 0.20290040561019212, 0.18635935131002182, 0.19465067337922737, 0.19424669727367042, 0.19961158673534105, 0.19228998142426196, 0.19304452607440126,0.9656797341818235]\n",
    "row2 = [\"EURef2016=='Remain' AND Hindsight=='Wrong'\",0.1748036927263995, 0.18370998849355677, 0.17807562644073185, 0.1874738749729389, 0.1689322159809199, 0.17079704864738163, 0.16661748895197204, 0.1745831476397755, 0.16109884131497454, 0.16754342194666214,0.9470272248311299]\n",
    "row3 = [\"EURef2016=='Remain'\",0.15859778456703164, 0.172531130866341, 0.17276625192292405, 0.17560579427570872, 0.1594370374231965, 0.16239445806093278, 0.1555150074934778, 0.1593487011852054, 0.15004038286850752, 0.15818866934407536,0.9434793967391196]\n",
    "row4 = [\"Hindsight=='Wrong' AND sex=='Woman'\",0.11069167029819355, 0.11258297128302985, 0.1024834749322398, 0.11707143722709133, 0.10220386033963692, 0.1139827464088989, 0.11103725032888774, 0.11667343868743539, 0.12055421242724121, 0.11068918500812928,0.9409357260156487]\n",
    "row5 = [\"Hindsight=='Wrong' AND Poscountry=='Very negative effect'\",0.10720072284615995, 0.12267260688502976, 0.12432571021553895, 0.12445928852786241, 0.11711999374421665, 0.13383571381255444, 0.1266799088497653, 0.14248625641561347, 0.1493590054178282, 0.12290549394549735,0.899846458370765]\n",
    "row6 = [\"Poscountry=='Very negative effect'\",0.1067286568630396, 0.12112067024007928, 0.1238674815033019, 0.12400588740674984, 0.11642707885328016, 0.13159175333377496, 0.12586291815660067, 0.14133015150107098, 0.14943301842198936, 0.12164856281394841,0.8994775812001404]\n",
    "row7 = [\"EURef2016=='Remain' AND Hindsight=='Wrong' AND sex=='Woman'\",0.10353343339051443, 0.1080459111178448, 0.09772506588985988, 0.10746355431078264, 0.09341173335881986, 0.0968444425194523, 0.09441819748790437, 0.10120926358174553, 0.09798482428206431, 0.09468464109781843,0.9405253529757319]\n",
    "row8 = [\"EURef2016=='Remain' AND Hindsight=='Wrong' AND Poscountry=='Very negative effect'\",0.10038775733935809, 0.11450753651555418, 0.11631995586041792, 0.11128750941181757, 0.10372001894112179, 0.11932544879209572, 0.10803382974562122, 0.11988376092030746, 0.12622383745218244, 0.10857041240991046,0.9201414616714412]\n",
    "row9 = [\"EURef2016=='Remain' AND Poscountry=='Very negative effect'\",0.10038775733935809, 0.11430689035301439, 0.1175855399227869, 0.11152850640412064, 0.10348904731080961, 0.1192152571478071, 0.10724773999195822, 0.12015532008368812, 0.1267453620742869, 0.10831902618360068,0.9174389657873118]\n",
    "row10 = [\"EURef2016=='Remain' AND sex=='Woman'\",0.0952980277395335, 0.1057773810352523, 0.09477541337996666, 0.10102062907022816, 0.08931434008002191, 0.09326926506631882, 0.08941902842170438, 0.09522139533474472, 0.09386107911723085, 0.09272170521002694,0.9451038468455941]\n",
    "top10.append(row1)\n",
    "top10.append(row2)\n",
    "top10.append(row3)\n",
    "top10.append(row4)\n",
    "top10.append(row5)\n",
    "top10.append(row6)\n",
    "top10.append(row7)\n",
    "top10.append(row8)\n",
    "top10.append(row9)\n",
    "top10.append(row10)"
   ]
  },
  {
   "cell_type": "code",
   "execution_count": 12,
   "metadata": {},
   "outputs": [],
   "source": [
    "top10_noP = [[\"Subgroup\", \"Wave1\",\"Wave2\",\"Wave3\",\"Wave4\",\"Wave5\",\"Wave6\",\"Wave7\",\"Wave8\",\"Wave9\",\"Wave10\"]]\n",
    "row1 = [\"Hindsight=='Wrong'\",0.18705360991978387, 0.19412720966705022, 0.18423677643893946, 0.20290040561019212, 0.18635935131002182, 0.19465067337922737, 0.19424669727367042, 0.19961158673534105, 0.19228998142426196, 0.19304452607440126]\n",
    "row2 = [\"EURef2016=='Remain' AND Hindsight=='Wrong'\",0.1748036927263995, 0.18370998849355677, 0.17807562644073185, 0.1874738749729389, 0.1689322159809199, 0.17079704864738163, 0.16661748895197204, 0.1745831476397755, 0.16109884131497454, 0.16754342194666214]\n",
    "row3 = [\"EURef2016=='Remain'\",0.15859778456703164, 0.172531130866341, 0.17276625192292405, 0.17560579427570872, 0.1594370374231965, 0.16239445806093278, 0.1555150074934778, 0.1593487011852054, 0.15004038286850752, 0.15818866934407536]\n",
    "row4 = [\"Hindsight=='Wrong' AND sex=='Woman'\",0.11069167029819355, 0.11258297128302985, 0.1024834749322398, 0.11707143722709133, 0.10220386033963692, 0.1139827464088989, 0.11103725032888774, 0.11667343868743539, 0.12055421242724121, 0.11068918500812928]\n",
    "row5 = [\"Hindsight=='Wrong' AND Poscountry=='Very negative effect'\",0.10720072284615995, 0.12267260688502976, 0.12432571021553895, 0.12445928852786241, 0.11711999374421665, 0.13383571381255444, 0.1266799088497653, 0.14248625641561347, 0.1493590054178282, 0.12290549394549735]\n",
    "row6 = [\"Poscountry=='Very negative effect'\",0.1067286568630396, 0.12112067024007928, 0.1238674815033019, 0.12400588740674984, 0.11642707885328016, 0.13159175333377496, 0.12586291815660067, 0.14133015150107098, 0.14943301842198936, 0.12164856281394841]\n",
    "row7 = [\"EURef2016=='Remain' AND Hindsight=='Wrong' AND sex=='Woman'\",0.10353343339051443, 0.1080459111178448, 0.09772506588985988, 0.10746355431078264, 0.09341173335881986, 0.0968444425194523, 0.09441819748790437, 0.10120926358174553, 0.09798482428206431, 0.09468464109781843]\n",
    "row8 = [\"EURef2016=='Remain' AND Hindsight=='Wrong' AND Poscountry=='Very negative effect'\",0.10038775733935809, 0.11450753651555418, 0.11631995586041792, 0.11128750941181757, 0.10372001894112179, 0.11932544879209572, 0.10803382974562122, 0.11988376092030746, 0.12622383745218244, 0.10857041240991046]\n",
    "row9 = [\"EURef2016=='Remain' AND Poscountry=='Very negative effect'\",0.10038775733935809, 0.11430689035301439, 0.1175855399227869, 0.11152850640412064, 0.10348904731080961, 0.1192152571478071, 0.10724773999195822, 0.12015532008368812, 0.1267453620742869, 0.10831902618360068]\n",
    "row10 = [\"EURef2016=='Remain' AND sex=='Woman'\",0.0952980277395335, 0.1057773810352523, 0.09477541337996666, 0.10102062907022816, 0.08931434008002191, 0.09326926506631882, 0.08941902842170438, 0.09522139533474472, 0.09386107911723085, 0.09272170521002694]\n",
    "top10_noP.append(row1)\n",
    "top10_noP.append(row2)\n",
    "top10_noP.append(row3)\n",
    "top10_noP.append(row4)\n",
    "top10_noP.append(row5)\n",
    "top10_noP.append(row6)\n",
    "top10_noP.append(row7)\n",
    "top10_noP.append(row8)\n",
    "top10_noP.append(row9)\n",
    "top10_noP.append(row10)"
   ]
  },
  {
   "cell_type": "code",
   "execution_count": 63,
   "metadata": {},
   "outputs": [],
   "source": [
    "dataframTop10 = pd.DataFrame(top10[1:],columns=top10[0])\n",
    "dataframTop10_noP = pd.DataFrame(top10_noP[1:],columns=top10_noP[0])"
   ]
  },
  {
   "cell_type": "code",
   "execution_count": 81,
   "metadata": {},
   "outputs": [],
   "source": [
    "dataframTop10.to_csv(\"./analysis output/Random data/\"+'File 3R_Top 10 wave 1 quality over time.csv')"
   ]
  },
  {
   "cell_type": "code",
   "execution_count": 69,
   "metadata": {
    "scrolled": true
   },
   "outputs": [],
   "source": [
    "dataframTop10_T = dataframTop10.transpose()\n",
    "dataframTop10_T.columns = dataframTop10_T.iloc[0]\n",
    "dataframTop10_T = dataframTop10_T.drop(\"Subgroup\")\n",
    "dataframTop10_T_noP = dataframTop10_noP.transpose()\n",
    "dataframTop10_T_noP.columns = dataframTop10_T_noP.iloc[0]\n",
    "dataframTop10_T_noP = dataframTop10_T_noP.drop(\"Subgroup\")"
   ]
  },
  {
   "cell_type": "code",
   "execution_count": 91,
   "metadata": {
    "scrolled": true
   },
   "outputs": [
    {
     "data": {
      "image/png": "[encoded data removed]",
      "text/plain": [
       "<Figure size 432x288 with 1 Axes>"
      ]
     },
     "metadata": {
      "needs_background": "light"
     },
     "output_type": "display_data"
    }
   ],
   "source": [
    "dataframTop10_T_noP.plot();\n",
    "plt.xlabel('Wave')\n",
    "plt.ylabel('Quality')\n",
    "plt.legend(bbox_to_anchor=(1,1), loc=\"upper left\");"
   ]
  },
  {
   "cell_type": "code",
   "execution_count": 17,
   "metadata": {},
   "outputs": [],
   "source": [
    "top10_stats = table1[0:11]"
   ]
  },
  {
   "cell_type": "code",
   "execution_count": 18,
   "metadata": {
    "scrolled": false
   },
   "outputs": [
    {
     "data": {
      "text/html": [
       "<div>\n",
       "<style scoped>\n",
       "    .dataframe tbody tr th:only-of-type {\n",
       "        vertical-align: middle;\n",
       "    }\n",
       "\n",
       "    .dataframe tbody tr th {\n",
       "        vertical-align: top;\n",
       "    }\n",
       "\n",
       "    .dataframe thead th {\n",
       "        text-align: right;\n",
       "    }\n",
       "</style>\n",
       "<table border=\"1\" class=\"dataframe\">\n",
       "  <thead>\n",
       "    <tr style=\"text-align: right;\">\n",
       "      <th></th>\n",
       "      <th>Year</th>\n",
       "      <th>Subgroup</th>\n",
       "      <th>Penalty</th>\n",
       "      <th>Old Quality</th>\n",
       "      <th>New Quality</th>\n",
       "    </tr>\n",
       "  </thead>\n",
       "  <tbody>\n",
       "    <tr>\n",
       "      <th>0</th>\n",
       "      <td>0</td>\n",
       "      <td>Hindsight=='Wrong'</td>\n",
       "      <td>0.965680</td>\n",
       "      <td>0.187054</td>\n",
       "      <td>0.180634</td>\n",
       "    </tr>\n",
       "    <tr>\n",
       "      <th>1</th>\n",
       "      <td>0</td>\n",
       "      <td>EURef2016=='Remain' AND Hindsight=='Wrong'</td>\n",
       "      <td>0.947027</td>\n",
       "      <td>0.174804</td>\n",
       "      <td>0.165544</td>\n",
       "    </tr>\n",
       "    <tr>\n",
       "      <th>2</th>\n",
       "      <td>0</td>\n",
       "      <td>EURef2016=='Remain'</td>\n",
       "      <td>0.943479</td>\n",
       "      <td>0.158598</td>\n",
       "      <td>0.149634</td>\n",
       "    </tr>\n",
       "    <tr>\n",
       "      <th>3</th>\n",
       "      <td>0</td>\n",
       "      <td>Hindsight=='Wrong' AND sex=='Woman'</td>\n",
       "      <td>0.940936</td>\n",
       "      <td>0.110692</td>\n",
       "      <td>0.104154</td>\n",
       "    </tr>\n",
       "    <tr>\n",
       "      <th>4</th>\n",
       "      <td>0</td>\n",
       "      <td>Hindsight=='Wrong' AND Poscountry=='Very negat...</td>\n",
       "      <td>0.899846</td>\n",
       "      <td>0.107201</td>\n",
       "      <td>0.096464</td>\n",
       "    </tr>\n",
       "    <tr>\n",
       "      <th>5</th>\n",
       "      <td>0</td>\n",
       "      <td>Poscountry=='Very negative effect'</td>\n",
       "      <td>0.899478</td>\n",
       "      <td>0.106729</td>\n",
       "      <td>0.096000</td>\n",
       "    </tr>\n",
       "    <tr>\n",
       "      <th>6</th>\n",
       "      <td>0</td>\n",
       "      <td>EURef2016=='Remain' AND Hindsight=='Wrong' AND...</td>\n",
       "      <td>0.940525</td>\n",
       "      <td>0.103533</td>\n",
       "      <td>0.097376</td>\n",
       "    </tr>\n",
       "    <tr>\n",
       "      <th>7</th>\n",
       "      <td>0</td>\n",
       "      <td>EURef2016=='Remain' AND Hindsight=='Wrong' AND...</td>\n",
       "      <td>0.920141</td>\n",
       "      <td>0.100388</td>\n",
       "      <td>0.092371</td>\n",
       "    </tr>\n",
       "    <tr>\n",
       "      <th>8</th>\n",
       "      <td>0</td>\n",
       "      <td>EURef2016=='Remain' AND Poscountry=='Very nega...</td>\n",
       "      <td>0.917439</td>\n",
       "      <td>0.100388</td>\n",
       "      <td>0.092100</td>\n",
       "    </tr>\n",
       "    <tr>\n",
       "      <th>9</th>\n",
       "      <td>0</td>\n",
       "      <td>EURef2016=='Remain' AND sex=='Woman'</td>\n",
       "      <td>0.945104</td>\n",
       "      <td>0.095298</td>\n",
       "      <td>0.090067</td>\n",
       "    </tr>\n",
       "  </tbody>\n",
       "</table>\n",
       "</div>"
      ],
      "text/plain": [
       "   Year                                           Subgroup   Penalty  \\\n",
       "0     0                                 Hindsight=='Wrong'  0.965680   \n",
       "1     0         EURef2016=='Remain' AND Hindsight=='Wrong'  0.947027   \n",
       "2     0                                EURef2016=='Remain'  0.943479   \n",
       "3     0                Hindsight=='Wrong' AND sex=='Woman'  0.940936   \n",
       "4     0  Hindsight=='Wrong' AND Poscountry=='Very negat...  0.899846   \n",
       "5     0                 Poscountry=='Very negative effect'  0.899478   \n",
       "6     0  EURef2016=='Remain' AND Hindsight=='Wrong' AND...  0.940525   \n",
       "7     0  EURef2016=='Remain' AND Hindsight=='Wrong' AND...  0.920141   \n",
       "8     0  EURef2016=='Remain' AND Poscountry=='Very nega...  0.917439   \n",
       "9     0               EURef2016=='Remain' AND sex=='Woman'  0.945104   \n",
       "\n",
       "   Old Quality  New Quality  \n",
       "0     0.187054     0.180634  \n",
       "1     0.174804     0.165544  \n",
       "2     0.158598     0.149634  \n",
       "3     0.110692     0.104154  \n",
       "4     0.107201     0.096464  \n",
       "5     0.106729     0.096000  \n",
       "6     0.103533     0.097376  \n",
       "7     0.100388     0.092371  \n",
       "8     0.100388     0.092100  \n",
       "9     0.095298     0.090067  "
      ]
     },
     "execution_count": 18,
     "metadata": {},
     "output_type": "execute_result"
    }
   ],
   "source": [
    "df_stats_top10 = pd.DataFrame(top10_stats[1:], columns = top10_stats[0])\n",
    "df_stats_top10"
   ]
  },
  {
   "cell_type": "code",
   "execution_count": 82,
   "metadata": {},
   "outputs": [],
   "source": [
    "df_stats_top10.to_csv(\"./analysis output/Random data/\"+'File 4R_Top 10 wave 1 summary.csv')"
   ]
  },
  {
   "cell_type": "code",
   "execution_count": 19,
   "metadata": {},
   "outputs": [],
   "source": [
    "#df_stats_top10.to_csv(\"df_stats_top10.csv\")"
   ]
  },
  {
   "cell_type": "markdown",
   "metadata": {},
   "source": [
    "# Top 10 of Wave 10"
   ]
  },
  {
   "cell_type": "code",
   "execution_count": 20,
   "metadata": {},
   "outputs": [],
   "source": [
    "top10_10 = [[\"Subgroup\", \"Wave1\",\"Wave2\",\"Wave3\",\"Wave4\",\"Wave5\",\"Wave6\",\"Wave7\",\"Wave8\",\"Wave9\",\"Wave10\",\"Penalty\"]]\n",
    "row1_10 = [\"GEvote2015=='Missing' AND Hindsight=='Wrong'\",0.0, 0.0, 0.0, 0.0, 0.001531363630439599, 0.19465067337922737, 0.0, 0.0, 0.0, 0.19304452607440126,0.4890566333820936]\n",
    "row2_10 = [\"Hindsight=='Wrong' AND profile_gross_personal=='Not Asked or missing'\",0.03061094311370821, 0.04548525660187297, 0.031313074636729055, 0.20290040561019212, 0.013819199172846427, 0.017675886246554123, 0.012017073899596819, 0.024025637355687558, 0.012945408542245209, 0.19304452607440126,0.431939529960045]\n",
    "row3_10 = [\"Hindsight=='Wrong'\",0.18705360991978387, 0.19412720966705022, 0.18423677643893946, 0.20290040561019212, 0.18635935131002182, 0.19465067337922737, 0.19424669727367042, 0.19961158673534105, 0.19228998142426196, 0.19304452607440126,0.9656797341818235]\n",
    "row4_10 = [\"GEvote2015=='Missing' AND Hindsight=='Wrong' AND profile_gross_personal=='Not Asked or missing'\",0.0, 0.0, 0.0, 0.0, 0.0008811676303758829, 0.017675886246554123, 0.0, 0.0, 0.0, 0.19304452607440126,0.4699106612969765]\n",
    "row5_10 = [\"EURef2016=='Remain' AND GEvote2015=='Missing' AND Hindsight=='Wrong' AND profile_gross_personal=='Not Asked or missing'\",0.0, 0.0, 0.0, 0.0, 0.0008811676303758829, 0.013249112097386483, 0.0, 0.0, 0.0, 0.16754342194666214,0.47001879310513195]\n",
    "row6_10 = [\"EURef2016=='Remain' AND Hindsight=='Wrong'\",0.1748036927263995, 0.18370998849355677, 0.17807562644073185, 0.1874738749729389, 0.1689322159809199, 0.17079704864738163, 0.16661748895197204, 0.1745831476397755, 0.16109884131497454, 0.16754342194666214,0.9470272248311299]\n",
    "row7_10 = [\"EURef2016=='Remain' AND GEvote2015=='Missing' AND Hindsight=='Wrong'\",0.0, 0.0, 0.0, 0.0, 0.001622593804167916, 0.17079704864738163, 0.0, 0.0, 0.0, 0.16754342194666214,0.4888918906366658]\n",
    "row8_10 = [\"EURef2016=='Remain' AND Hindsight=='Wrong' AND profile_gross_personal=='Not Asked or missing'\",0.03072330262043438, 0.042934183963867306, 0.02769400297069362, 0.1874738749729389, 0.01247029588986346, 0.013249112097386483, 0.012251091990212694, 0.02063397419939226, 0.010252708627970583, 0.16754342194666214,0.4228701565577491]\n",
    "row9_10 = [\"EURef2016=='Remain' AND profile_gross_personal=='Not Asked or missing'\",0.02772392801032771, 0.03983031067396636, 0.026496997355053994, 0.17560579427570872, 0.012148094085822977, 0.013363762363120322, 0.011354587903940285, 0.019137572414834773, 0.009357685392083887, 0.15818866934407536,0.4222696010057935]\n",
    "row10_10 = [\"EURef2016=='Remain'\",0.15859778456703164, 0.172531130866341, 0.17276625192292405, 0.17560579427570872, 0.1594370374231965, 0.16239445806093278, 0.1555150074934778, 0.1593487011852054, 0.15004038286850752, 0.15818866934407536,0.9434793967391196]\n",
    "top10_10.append(row1_10)\n",
    "top10_10.append(row2_10)\n",
    "top10_10.append(row3_10)\n",
    "top10_10.append(row4_10)\n",
    "top10_10.append(row5_10)\n",
    "top10_10.append(row6_10)\n",
    "top10_10.append(row7_10)\n",
    "top10_10.append(row8_10)\n",
    "top10_10.append(row9_10)\n",
    "top10_10.append(row10_10)"
   ]
  },
  {
   "cell_type": "code",
   "execution_count": 21,
   "metadata": {},
   "outputs": [],
   "source": [
    "top10_noP_10 = [[\"Subgroup\", \"Wave1\",\"Wave2\",\"Wave3\",\"Wave4\",\"Wave5\",\"Wave6\",\"Wave7\",\"Wave8\",\"Wave9\",\"Wave10\"]]\n",
    "row1_10 = [\"GEvote2015=='Missing' AND Hindsight=='Wrong'\",0.0, 0.0, 0.0, 0.0, 0.001531363630439599, 0.19465067337922737, 0.0, 0.0, 0.0, 0.19304452607440126]\n",
    "row2_10 = [\"Hindsight=='Wrong' AND profile_gross_personal=='Not Asked or missing'\",0.03061094311370821, 0.04548525660187297, 0.031313074636729055, 0.20290040561019212, 0.013819199172846427, 0.017675886246554123, 0.012017073899596819, 0.024025637355687558, 0.012945408542245209, 0.19304452607440126]\n",
    "row3_10 = [\"Hindsight=='Wrong'\",0.18705360991978387, 0.19412720966705022, 0.18423677643893946, 0.20290040561019212, 0.18635935131002182, 0.19465067337922737, 0.19424669727367042, 0.19961158673534105, 0.19228998142426196, 0.19304452607440126]\n",
    "row4_10 = [\"GEvote2015=='Missing' AND Hindsight=='Wrong' AND profile_gross_personal=='Not Asked or missing'\",0.0, 0.0, 0.0, 0.0, 0.0008811676303758829, 0.017675886246554123, 0.0, 0.0, 0.0, 0.19304452607440126]\n",
    "row5_10 = [\"EURef2016=='Remain' AND GEvote2015=='Missing' AND Hindsight=='Wrong' AND profile_gross_personal=='Not Asked or missing'\",0.0, 0.0, 0.0, 0.0, 0.0008811676303758829, 0.013249112097386483, 0.0, 0.0, 0.0, 0.16754342194666214]\n",
    "row6_10 = [\"EURef2016=='Remain' AND Hindsight=='Wrong'\",0.1748036927263995, 0.18370998849355677, 0.17807562644073185, 0.1874738749729389, 0.1689322159809199, 0.17079704864738163, 0.16661748895197204, 0.1745831476397755, 0.16109884131497454, 0.16754342194666214]\n",
    "row7_10 = [\"EURef2016=='Remain' AND GEvote2015=='Missing' AND Hindsight=='Wrong'\",0.0, 0.0, 0.0, 0.0, 0.001622593804167916, 0.17079704864738163, 0.0, 0.0, 0.0, 0.16754342194666214]\n",
    "row8_10 = [\"EURef2016=='Remain' AND Hindsight=='Wrong' AND profile_gross_personal=='Not Asked or missing'\",0.03072330262043438, 0.042934183963867306, 0.02769400297069362, 0.1874738749729389, 0.01247029588986346, 0.013249112097386483, 0.012251091990212694, 0.02063397419939226, 0.010252708627970583, 0.16754342194666214]\n",
    "row9_10 = [\"EURef2016=='Remain' AND profile_gross_personal=='Not Asked or missing'\",0.02772392801032771, 0.03983031067396636, 0.026496997355053994, 0.17560579427570872, 0.012148094085822977, 0.013363762363120322, 0.011354587903940285, 0.019137572414834773, 0.009357685392083887, 0.15818866934407536]\n",
    "row10_10 = [\"EURef2016=='Remain'\",0.15859778456703164, 0.172531130866341, 0.17276625192292405, 0.17560579427570872, 0.1594370374231965, 0.16239445806093278, 0.1555150074934778, 0.1593487011852054, 0.15004038286850752, 0.15818866934407536]\n",
    "top10_noP_10.append(row1_10)\n",
    "top10_noP_10.append(row2_10)\n",
    "top10_noP_10.append(row3_10)\n",
    "top10_noP_10.append(row4_10)\n",
    "top10_noP_10.append(row5_10)\n",
    "top10_noP_10.append(row6_10)\n",
    "top10_noP_10.append(row7_10)\n",
    "top10_noP_10.append(row8_10)\n",
    "top10_noP_10.append(row9_10)\n",
    "top10_noP_10.append(row10_10)"
   ]
  },
  {
   "cell_type": "code",
   "execution_count": 22,
   "metadata": {},
   "outputs": [],
   "source": [
    "dataframTop10_10 = pd.DataFrame(top10_10[1:],columns=top10_10[0])\n",
    "dataframTop10_noP_10 = pd.DataFrame(top10_noP_1b0[1:],columns=top10_noP_10[0])"
   ]
  },
  {
   "cell_type": "code",
   "execution_count": 71,
   "metadata": {},
   "outputs": [],
   "source": [
    "dataframTop10_T_10 = dataframTop10_10.transpose()\n",
    "dataframTop10_T_10.columns = dataframTop10_T_10.iloc[0]\n",
    "dataframTop10_T_10 = dataframTop10_T_10.drop(\"Subgroup\")\n",
    "dataframTop10_T_noP_10 = dataframTop10_noP_10.transpose()\n",
    "dataframTop10_T_noP_10.columns = dataframTop10_T_noP_10.iloc[0]\n",
    "dataframTop10_T_noP_10 = dataframTop10_T_noP_10.drop(\"Subgroup\")"
   ]
  },
  {
   "cell_type": "code",
   "execution_count": 72,
   "metadata": {
    "scrolled": false
   },
   "outputs": [
    {
     "data": {
      "text/html": [
       "<div>\n",
       "<style scoped>\n",
       "    .dataframe tbody tr th:only-of-type {\n",
       "        vertical-align: middle;\n",
       "    }\n",
       "\n",
       "    .dataframe tbody tr th {\n",
       "        vertical-align: top;\n",
       "    }\n",
       "\n",
       "    .dataframe thead th {\n",
       "        text-align: right;\n",
       "    }\n",
       "</style>\n",
       "<table border=\"1\" class=\"dataframe\">\n",
       "  <thead>\n",
       "    <tr style=\"text-align: right;\">\n",
       "      <th></th>\n",
       "      <th>Subgroup</th>\n",
       "      <th>Wave1</th>\n",
       "      <th>Wave2</th>\n",
       "      <th>Wave3</th>\n",
       "      <th>Wave4</th>\n",
       "      <th>Wave5</th>\n",
       "      <th>Wave6</th>\n",
       "      <th>Wave7</th>\n",
       "      <th>Wave8</th>\n",
       "      <th>Wave9</th>\n",
       "      <th>Wave10</th>\n",
       "      <th>Penalty</th>\n",
       "    </tr>\n",
       "  </thead>\n",
       "  <tbody>\n",
       "    <tr>\n",
       "      <th>0</th>\n",
       "      <td>GEvote2015=='Missing' AND Hindsight=='Wrong'</td>\n",
       "      <td>0.000000</td>\n",
       "      <td>0.000000</td>\n",
       "      <td>0.000000</td>\n",
       "      <td>0.000000</td>\n",
       "      <td>0.001531</td>\n",
       "      <td>0.194651</td>\n",
       "      <td>0.000000</td>\n",
       "      <td>0.000000</td>\n",
       "      <td>0.000000</td>\n",
       "      <td>0.193045</td>\n",
       "      <td>0.489057</td>\n",
       "    </tr>\n",
       "    <tr>\n",
       "      <th>1</th>\n",
       "      <td>Hindsight=='Wrong' AND profile_gross_personal=...</td>\n",
       "      <td>0.030611</td>\n",
       "      <td>0.045485</td>\n",
       "      <td>0.031313</td>\n",
       "      <td>0.202900</td>\n",
       "      <td>0.013819</td>\n",
       "      <td>0.017676</td>\n",
       "      <td>0.012017</td>\n",
       "      <td>0.024026</td>\n",
       "      <td>0.012945</td>\n",
       "      <td>0.193045</td>\n",
       "      <td>0.431940</td>\n",
       "    </tr>\n",
       "    <tr>\n",
       "      <th>2</th>\n",
       "      <td>Hindsight=='Wrong'</td>\n",
       "      <td>0.187054</td>\n",
       "      <td>0.194127</td>\n",
       "      <td>0.184237</td>\n",
       "      <td>0.202900</td>\n",
       "      <td>0.186359</td>\n",
       "      <td>0.194651</td>\n",
       "      <td>0.194247</td>\n",
       "      <td>0.199612</td>\n",
       "      <td>0.192290</td>\n",
       "      <td>0.193045</td>\n",
       "      <td>0.965680</td>\n",
       "    </tr>\n",
       "    <tr>\n",
       "      <th>3</th>\n",
       "      <td>GEvote2015=='Missing' AND Hindsight=='Wrong' A...</td>\n",
       "      <td>0.000000</td>\n",
       "      <td>0.000000</td>\n",
       "      <td>0.000000</td>\n",
       "      <td>0.000000</td>\n",
       "      <td>0.000881</td>\n",
       "      <td>0.017676</td>\n",
       "      <td>0.000000</td>\n",
       "      <td>0.000000</td>\n",
       "      <td>0.000000</td>\n",
       "      <td>0.193045</td>\n",
       "      <td>0.469911</td>\n",
       "    </tr>\n",
       "    <tr>\n",
       "      <th>4</th>\n",
       "      <td>EURef2016=='Remain' AND GEvote2015=='Missing' ...</td>\n",
       "      <td>0.000000</td>\n",
       "      <td>0.000000</td>\n",
       "      <td>0.000000</td>\n",
       "      <td>0.000000</td>\n",
       "      <td>0.000881</td>\n",
       "      <td>0.013249</td>\n",
       "      <td>0.000000</td>\n",
       "      <td>0.000000</td>\n",
       "      <td>0.000000</td>\n",
       "      <td>0.167543</td>\n",
       "      <td>0.470019</td>\n",
       "    </tr>\n",
       "    <tr>\n",
       "      <th>5</th>\n",
       "      <td>EURef2016=='Remain' AND Hindsight=='Wrong'</td>\n",
       "      <td>0.174804</td>\n",
       "      <td>0.183710</td>\n",
       "      <td>0.178076</td>\n",
       "      <td>0.187474</td>\n",
       "      <td>0.168932</td>\n",
       "      <td>0.170797</td>\n",
       "      <td>0.166617</td>\n",
       "      <td>0.174583</td>\n",
       "      <td>0.161099</td>\n",
       "      <td>0.167543</td>\n",
       "      <td>0.947027</td>\n",
       "    </tr>\n",
       "    <tr>\n",
       "      <th>6</th>\n",
       "      <td>EURef2016=='Remain' AND GEvote2015=='Missing' ...</td>\n",
       "      <td>0.000000</td>\n",
       "      <td>0.000000</td>\n",
       "      <td>0.000000</td>\n",
       "      <td>0.000000</td>\n",
       "      <td>0.001623</td>\n",
       "      <td>0.170797</td>\n",
       "      <td>0.000000</td>\n",
       "      <td>0.000000</td>\n",
       "      <td>0.000000</td>\n",
       "      <td>0.167543</td>\n",
       "      <td>0.488892</td>\n",
       "    </tr>\n",
       "    <tr>\n",
       "      <th>7</th>\n",
       "      <td>EURef2016=='Remain' AND Hindsight=='Wrong' AND...</td>\n",
       "      <td>0.030723</td>\n",
       "      <td>0.042934</td>\n",
       "      <td>0.027694</td>\n",
       "      <td>0.187474</td>\n",
       "      <td>0.012470</td>\n",
       "      <td>0.013249</td>\n",
       "      <td>0.012251</td>\n",
       "      <td>0.020634</td>\n",
       "      <td>0.010253</td>\n",
       "      <td>0.167543</td>\n",
       "      <td>0.422870</td>\n",
       "    </tr>\n",
       "    <tr>\n",
       "      <th>8</th>\n",
       "      <td>EURef2016=='Remain' AND profile_gross_personal...</td>\n",
       "      <td>0.027724</td>\n",
       "      <td>0.039830</td>\n",
       "      <td>0.026497</td>\n",
       "      <td>0.175606</td>\n",
       "      <td>0.012148</td>\n",
       "      <td>0.013364</td>\n",
       "      <td>0.011355</td>\n",
       "      <td>0.019138</td>\n",
       "      <td>0.009358</td>\n",
       "      <td>0.158189</td>\n",
       "      <td>0.422270</td>\n",
       "    </tr>\n",
       "    <tr>\n",
       "      <th>9</th>\n",
       "      <td>EURef2016=='Remain'</td>\n",
       "      <td>0.158598</td>\n",
       "      <td>0.172531</td>\n",
       "      <td>0.172766</td>\n",
       "      <td>0.175606</td>\n",
       "      <td>0.159437</td>\n",
       "      <td>0.162394</td>\n",
       "      <td>0.155515</td>\n",
       "      <td>0.159349</td>\n",
       "      <td>0.150040</td>\n",
       "      <td>0.158189</td>\n",
       "      <td>0.943479</td>\n",
       "    </tr>\n",
       "  </tbody>\n",
       "</table>\n",
       "</div>"
      ],
      "text/plain": [
       "                                            Subgroup     Wave1     Wave2  \\\n",
       "0       GEvote2015=='Missing' AND Hindsight=='Wrong'  0.000000  0.000000   \n",
       "1  Hindsight=='Wrong' AND profile_gross_personal=...  0.030611  0.045485   \n",
       "2                                 Hindsight=='Wrong'  0.187054  0.194127   \n",
       "3  GEvote2015=='Missing' AND Hindsight=='Wrong' A...  0.000000  0.000000   \n",
       "4  EURef2016=='Remain' AND GEvote2015=='Missing' ...  0.000000  0.000000   \n",
       "5         EURef2016=='Remain' AND Hindsight=='Wrong'  0.174804  0.183710   \n",
       "6  EURef2016=='Remain' AND GEvote2015=='Missing' ...  0.000000  0.000000   \n",
       "7  EURef2016=='Remain' AND Hindsight=='Wrong' AND...  0.030723  0.042934   \n",
       "8  EURef2016=='Remain' AND profile_gross_personal...  0.027724  0.039830   \n",
       "9                                EURef2016=='Remain'  0.158598  0.172531   \n",
       "\n",
       "      Wave3     Wave4     Wave5     Wave6     Wave7     Wave8     Wave9  \\\n",
       "0  0.000000  0.000000  0.001531  0.194651  0.000000  0.000000  0.000000   \n",
       "1  0.031313  0.202900  0.013819  0.017676  0.012017  0.024026  0.012945   \n",
       "2  0.184237  0.202900  0.186359  0.194651  0.194247  0.199612  0.192290   \n",
       "3  0.000000  0.000000  0.000881  0.017676  0.000000  0.000000  0.000000   \n",
       "4  0.000000  0.000000  0.000881  0.013249  0.000000  0.000000  0.000000   \n",
       "5  0.178076  0.187474  0.168932  0.170797  0.166617  0.174583  0.161099   \n",
       "6  0.000000  0.000000  0.001623  0.170797  0.000000  0.000000  0.000000   \n",
       "7  0.027694  0.187474  0.012470  0.013249  0.012251  0.020634  0.010253   \n",
       "8  0.026497  0.175606  0.012148  0.013364  0.011355  0.019138  0.009358   \n",
       "9  0.172766  0.175606  0.159437  0.162394  0.155515  0.159349  0.150040   \n",
       "\n",
       "     Wave10   Penalty  \n",
       "0  0.193045  0.489057  \n",
       "1  0.193045  0.431940  \n",
       "2  0.193045  0.965680  \n",
       "3  0.193045  0.469911  \n",
       "4  0.167543  0.470019  \n",
       "5  0.167543  0.947027  \n",
       "6  0.167543  0.488892  \n",
       "7  0.167543  0.422870  \n",
       "8  0.158189  0.422270  \n",
       "9  0.158189  0.943479  "
      ]
     },
     "execution_count": 72,
     "metadata": {},
     "output_type": "execute_result"
    }
   ],
   "source": [
    "dataframTop10_10"
   ]
  },
  {
   "cell_type": "code",
   "execution_count": 83,
   "metadata": {},
   "outputs": [],
   "source": [
    "dataframTop10_10.to_csv(\"./analysis output/Random data/\"+'File 5R_Top 10 wave 10 quality over time.csv')"
   ]
  },
  {
   "cell_type": "code",
   "execution_count": 73,
   "metadata": {
    "scrolled": false
   },
   "outputs": [
    {
     "data": {
      "text/html": [
       "<div>\n",
       "<style scoped>\n",
       "    .dataframe tbody tr th:only-of-type {\n",
       "        vertical-align: middle;\n",
       "    }\n",
       "\n",
       "    .dataframe tbody tr th {\n",
       "        vertical-align: top;\n",
       "    }\n",
       "\n",
       "    .dataframe thead th {\n",
       "        text-align: right;\n",
       "    }\n",
       "</style>\n",
       "<table border=\"1\" class=\"dataframe\">\n",
       "  <thead>\n",
       "    <tr style=\"text-align: right;\">\n",
       "      <th></th>\n",
       "      <th>Subgroup</th>\n",
       "      <th>Wave1</th>\n",
       "      <th>Wave2</th>\n",
       "      <th>Wave3</th>\n",
       "      <th>Wave4</th>\n",
       "      <th>Wave5</th>\n",
       "      <th>Wave6</th>\n",
       "      <th>Wave7</th>\n",
       "      <th>Wave8</th>\n",
       "      <th>Wave9</th>\n",
       "      <th>Wave10</th>\n",
       "    </tr>\n",
       "  </thead>\n",
       "  <tbody>\n",
       "    <tr>\n",
       "      <th>0</th>\n",
       "      <td>GEvote2015=='Missing' AND Hindsight=='Wrong'</td>\n",
       "      <td>0.000000</td>\n",
       "      <td>0.000000</td>\n",
       "      <td>0.000000</td>\n",
       "      <td>0.000000</td>\n",
       "      <td>0.001531</td>\n",
       "      <td>0.194651</td>\n",
       "      <td>0.000000</td>\n",
       "      <td>0.000000</td>\n",
       "      <td>0.000000</td>\n",
       "      <td>0.193045</td>\n",
       "    </tr>\n",
       "    <tr>\n",
       "      <th>1</th>\n",
       "      <td>Hindsight=='Wrong' AND profile_gross_personal=...</td>\n",
       "      <td>0.030611</td>\n",
       "      <td>0.045485</td>\n",
       "      <td>0.031313</td>\n",
       "      <td>0.202900</td>\n",
       "      <td>0.013819</td>\n",
       "      <td>0.017676</td>\n",
       "      <td>0.012017</td>\n",
       "      <td>0.024026</td>\n",
       "      <td>0.012945</td>\n",
       "      <td>0.193045</td>\n",
       "    </tr>\n",
       "    <tr>\n",
       "      <th>2</th>\n",
       "      <td>Hindsight=='Wrong'</td>\n",
       "      <td>0.187054</td>\n",
       "      <td>0.194127</td>\n",
       "      <td>0.184237</td>\n",
       "      <td>0.202900</td>\n",
       "      <td>0.186359</td>\n",
       "      <td>0.194651</td>\n",
       "      <td>0.194247</td>\n",
       "      <td>0.199612</td>\n",
       "      <td>0.192290</td>\n",
       "      <td>0.193045</td>\n",
       "    </tr>\n",
       "    <tr>\n",
       "      <th>3</th>\n",
       "      <td>GEvote2015=='Missing' AND Hindsight=='Wrong' A...</td>\n",
       "      <td>0.000000</td>\n",
       "      <td>0.000000</td>\n",
       "      <td>0.000000</td>\n",
       "      <td>0.000000</td>\n",
       "      <td>0.000881</td>\n",
       "      <td>0.017676</td>\n",
       "      <td>0.000000</td>\n",
       "      <td>0.000000</td>\n",
       "      <td>0.000000</td>\n",
       "      <td>0.193045</td>\n",
       "    </tr>\n",
       "    <tr>\n",
       "      <th>4</th>\n",
       "      <td>EURef2016=='Remain' AND GEvote2015=='Missing' ...</td>\n",
       "      <td>0.000000</td>\n",
       "      <td>0.000000</td>\n",
       "      <td>0.000000</td>\n",
       "      <td>0.000000</td>\n",
       "      <td>0.000881</td>\n",
       "      <td>0.013249</td>\n",
       "      <td>0.000000</td>\n",
       "      <td>0.000000</td>\n",
       "      <td>0.000000</td>\n",
       "      <td>0.167543</td>\n",
       "    </tr>\n",
       "    <tr>\n",
       "      <th>5</th>\n",
       "      <td>EURef2016=='Remain' AND Hindsight=='Wrong'</td>\n",
       "      <td>0.174804</td>\n",
       "      <td>0.183710</td>\n",
       "      <td>0.178076</td>\n",
       "      <td>0.187474</td>\n",
       "      <td>0.168932</td>\n",
       "      <td>0.170797</td>\n",
       "      <td>0.166617</td>\n",
       "      <td>0.174583</td>\n",
       "      <td>0.161099</td>\n",
       "      <td>0.167543</td>\n",
       "    </tr>\n",
       "    <tr>\n",
       "      <th>6</th>\n",
       "      <td>EURef2016=='Remain' AND GEvote2015=='Missing' ...</td>\n",
       "      <td>0.000000</td>\n",
       "      <td>0.000000</td>\n",
       "      <td>0.000000</td>\n",
       "      <td>0.000000</td>\n",
       "      <td>0.001623</td>\n",
       "      <td>0.170797</td>\n",
       "      <td>0.000000</td>\n",
       "      <td>0.000000</td>\n",
       "      <td>0.000000</td>\n",
       "      <td>0.167543</td>\n",
       "    </tr>\n",
       "    <tr>\n",
       "      <th>7</th>\n",
       "      <td>EURef2016=='Remain' AND Hindsight=='Wrong' AND...</td>\n",
       "      <td>0.030723</td>\n",
       "      <td>0.042934</td>\n",
       "      <td>0.027694</td>\n",
       "      <td>0.187474</td>\n",
       "      <td>0.012470</td>\n",
       "      <td>0.013249</td>\n",
       "      <td>0.012251</td>\n",
       "      <td>0.020634</td>\n",
       "      <td>0.010253</td>\n",
       "      <td>0.167543</td>\n",
       "    </tr>\n",
       "    <tr>\n",
       "      <th>8</th>\n",
       "      <td>EURef2016=='Remain' AND profile_gross_personal...</td>\n",
       "      <td>0.027724</td>\n",
       "      <td>0.039830</td>\n",
       "      <td>0.026497</td>\n",
       "      <td>0.175606</td>\n",
       "      <td>0.012148</td>\n",
       "      <td>0.013364</td>\n",
       "      <td>0.011355</td>\n",
       "      <td>0.019138</td>\n",
       "      <td>0.009358</td>\n",
       "      <td>0.158189</td>\n",
       "    </tr>\n",
       "    <tr>\n",
       "      <th>9</th>\n",
       "      <td>EURef2016=='Remain'</td>\n",
       "      <td>0.158598</td>\n",
       "      <td>0.172531</td>\n",
       "      <td>0.172766</td>\n",
       "      <td>0.175606</td>\n",
       "      <td>0.159437</td>\n",
       "      <td>0.162394</td>\n",
       "      <td>0.155515</td>\n",
       "      <td>0.159349</td>\n",
       "      <td>0.150040</td>\n",
       "      <td>0.158189</td>\n",
       "    </tr>\n",
       "  </tbody>\n",
       "</table>\n",
       "</div>"
      ],
      "text/plain": [
       "                                            Subgroup     Wave1     Wave2  \\\n",
       "0       GEvote2015=='Missing' AND Hindsight=='Wrong'  0.000000  0.000000   \n",
       "1  Hindsight=='Wrong' AND profile_gross_personal=...  0.030611  0.045485   \n",
       "2                                 Hindsight=='Wrong'  0.187054  0.194127   \n",
       "3  GEvote2015=='Missing' AND Hindsight=='Wrong' A...  0.000000  0.000000   \n",
       "4  EURef2016=='Remain' AND GEvote2015=='Missing' ...  0.000000  0.000000   \n",
       "5         EURef2016=='Remain' AND Hindsight=='Wrong'  0.174804  0.183710   \n",
       "6  EURef2016=='Remain' AND GEvote2015=='Missing' ...  0.000000  0.000000   \n",
       "7  EURef2016=='Remain' AND Hindsight=='Wrong' AND...  0.030723  0.042934   \n",
       "8  EURef2016=='Remain' AND profile_gross_personal...  0.027724  0.039830   \n",
       "9                                EURef2016=='Remain'  0.158598  0.172531   \n",
       "\n",
       "      Wave3     Wave4     Wave5     Wave6     Wave7     Wave8     Wave9  \\\n",
       "0  0.000000  0.000000  0.001531  0.194651  0.000000  0.000000  0.000000   \n",
       "1  0.031313  0.202900  0.013819  0.017676  0.012017  0.024026  0.012945   \n",
       "2  0.184237  0.202900  0.186359  0.194651  0.194247  0.199612  0.192290   \n",
       "3  0.000000  0.000000  0.000881  0.017676  0.000000  0.000000  0.000000   \n",
       "4  0.000000  0.000000  0.000881  0.013249  0.000000  0.000000  0.000000   \n",
       "5  0.178076  0.187474  0.168932  0.170797  0.166617  0.174583  0.161099   \n",
       "6  0.000000  0.000000  0.001623  0.170797  0.000000  0.000000  0.000000   \n",
       "7  0.027694  0.187474  0.012470  0.013249  0.012251  0.020634  0.010253   \n",
       "8  0.026497  0.175606  0.012148  0.013364  0.011355  0.019138  0.009358   \n",
       "9  0.172766  0.175606  0.159437  0.162394  0.155515  0.159349  0.150040   \n",
       "\n",
       "     Wave10  \n",
       "0  0.193045  \n",
       "1  0.193045  \n",
       "2  0.193045  \n",
       "3  0.193045  \n",
       "4  0.167543  \n",
       "5  0.167543  \n",
       "6  0.167543  \n",
       "7  0.167543  \n",
       "8  0.158189  \n",
       "9  0.158189  "
      ]
     },
     "execution_count": 73,
     "metadata": {},
     "output_type": "execute_result"
    }
   ],
   "source": [
    "dataframTop10_noP_10"
   ]
  },
  {
   "cell_type": "code",
   "execution_count": 90,
   "metadata": {
    "scrolled": true
   },
   "outputs": [
    {
     "data": {
      "image/png": "[encoded data removed]",
      "text/plain": [
       "<Figure size 432x288 with 1 Axes>"
      ]
     },
     "metadata": {
      "needs_background": "light"
     },
     "output_type": "display_data"
    }
   ],
   "source": [
    "dataframTop10_T_noP_10.plot();\n",
    "plt.xlabel('Wave')\n",
    "plt.ylabel('Quality')\n",
    "plt.legend(bbox_to_anchor=(1,1), loc=\"upper left\");"
   ]
  },
  {
   "cell_type": "code",
   "execution_count": 26,
   "metadata": {},
   "outputs": [],
   "source": [
    "top10_stats_10 = table1[91:101]"
   ]
  },
  {
   "cell_type": "code",
   "execution_count": 27,
   "metadata": {
    "scrolled": false
   },
   "outputs": [
    {
     "data": {
      "text/html": [
       "<div>\n",
       "<style scoped>\n",
       "    .dataframe tbody tr th:only-of-type {\n",
       "        vertical-align: middle;\n",
       "    }\n",
       "\n",
       "    .dataframe tbody tr th {\n",
       "        vertical-align: top;\n",
       "    }\n",
       "\n",
       "    .dataframe thead th {\n",
       "        text-align: right;\n",
       "    }\n",
       "</style>\n",
       "<table border=\"1\" class=\"dataframe\">\n",
       "  <thead>\n",
       "    <tr style=\"text-align: right;\">\n",
       "      <th></th>\n",
       "      <th>Year</th>\n",
       "      <th>Subgroup</th>\n",
       "      <th>Penalty</th>\n",
       "      <th>Old Quality</th>\n",
       "      <th>New Quality</th>\n",
       "    </tr>\n",
       "  </thead>\n",
       "  <tbody>\n",
       "    <tr>\n",
       "      <th>0</th>\n",
       "      <td>9</td>\n",
       "      <td>GEvote2015=='Missing' AND Hindsight=='Wrong'</td>\n",
       "      <td>0.489057</td>\n",
       "      <td>0.193045</td>\n",
       "      <td>0.094410</td>\n",
       "    </tr>\n",
       "    <tr>\n",
       "      <th>1</th>\n",
       "      <td>9</td>\n",
       "      <td>Hindsight=='Wrong' AND profile_gross_personal=...</td>\n",
       "      <td>0.431940</td>\n",
       "      <td>0.193045</td>\n",
       "      <td>0.083384</td>\n",
       "    </tr>\n",
       "    <tr>\n",
       "      <th>2</th>\n",
       "      <td>9</td>\n",
       "      <td>Hindsight=='Wrong'</td>\n",
       "      <td>0.965680</td>\n",
       "      <td>0.193045</td>\n",
       "      <td>0.186419</td>\n",
       "    </tr>\n",
       "    <tr>\n",
       "      <th>3</th>\n",
       "      <td>9</td>\n",
       "      <td>GEvote2015=='Missing' AND Hindsight=='Wrong' A...</td>\n",
       "      <td>0.469911</td>\n",
       "      <td>0.193045</td>\n",
       "      <td>0.090714</td>\n",
       "    </tr>\n",
       "    <tr>\n",
       "      <th>4</th>\n",
       "      <td>9</td>\n",
       "      <td>EURef2016=='Remain' AND GEvote2015=='Missing' ...</td>\n",
       "      <td>0.470019</td>\n",
       "      <td>0.167543</td>\n",
       "      <td>0.078749</td>\n",
       "    </tr>\n",
       "    <tr>\n",
       "      <th>5</th>\n",
       "      <td>9</td>\n",
       "      <td>EURef2016=='Remain' AND Hindsight=='Wrong'</td>\n",
       "      <td>0.947027</td>\n",
       "      <td>0.167543</td>\n",
       "      <td>0.158668</td>\n",
       "    </tr>\n",
       "    <tr>\n",
       "      <th>6</th>\n",
       "      <td>9</td>\n",
       "      <td>EURef2016=='Remain' AND GEvote2015=='Missing' ...</td>\n",
       "      <td>0.488892</td>\n",
       "      <td>0.167543</td>\n",
       "      <td>0.081911</td>\n",
       "    </tr>\n",
       "    <tr>\n",
       "      <th>7</th>\n",
       "      <td>9</td>\n",
       "      <td>EURef2016=='Remain' AND Hindsight=='Wrong' AND...</td>\n",
       "      <td>0.422870</td>\n",
       "      <td>0.167543</td>\n",
       "      <td>0.070849</td>\n",
       "    </tr>\n",
       "    <tr>\n",
       "      <th>8</th>\n",
       "      <td>9</td>\n",
       "      <td>EURef2016=='Remain' AND profile_gross_personal...</td>\n",
       "      <td>0.422270</td>\n",
       "      <td>0.158189</td>\n",
       "      <td>0.066798</td>\n",
       "    </tr>\n",
       "    <tr>\n",
       "      <th>9</th>\n",
       "      <td>9</td>\n",
       "      <td>EURef2016=='Remain'</td>\n",
       "      <td>0.943479</td>\n",
       "      <td>0.158189</td>\n",
       "      <td>0.149248</td>\n",
       "    </tr>\n",
       "  </tbody>\n",
       "</table>\n",
       "</div>"
      ],
      "text/plain": [
       "   Year                                           Subgroup   Penalty  \\\n",
       "0     9       GEvote2015=='Missing' AND Hindsight=='Wrong'  0.489057   \n",
       "1     9  Hindsight=='Wrong' AND profile_gross_personal=...  0.431940   \n",
       "2     9                                 Hindsight=='Wrong'  0.965680   \n",
       "3     9  GEvote2015=='Missing' AND Hindsight=='Wrong' A...  0.469911   \n",
       "4     9  EURef2016=='Remain' AND GEvote2015=='Missing' ...  0.470019   \n",
       "5     9         EURef2016=='Remain' AND Hindsight=='Wrong'  0.947027   \n",
       "6     9  EURef2016=='Remain' AND GEvote2015=='Missing' ...  0.488892   \n",
       "7     9  EURef2016=='Remain' AND Hindsight=='Wrong' AND...  0.422870   \n",
       "8     9  EURef2016=='Remain' AND profile_gross_personal...  0.422270   \n",
       "9     9                                EURef2016=='Remain'  0.943479   \n",
       "\n",
       "   Old Quality  New Quality  \n",
       "0     0.193045     0.094410  \n",
       "1     0.193045     0.083384  \n",
       "2     0.193045     0.186419  \n",
       "3     0.193045     0.090714  \n",
       "4     0.167543     0.078749  \n",
       "5     0.167543     0.158668  \n",
       "6     0.167543     0.081911  \n",
       "7     0.167543     0.070849  \n",
       "8     0.158189     0.066798  \n",
       "9     0.158189     0.149248  "
      ]
     },
     "execution_count": 27,
     "metadata": {},
     "output_type": "execute_result"
    }
   ],
   "source": [
    "df_stats_top10_10 = pd.DataFrame(top10_stats_10, columns = top10_stats[0])\n",
    "df_stats_top10_10"
   ]
  },
  {
   "cell_type": "code",
   "execution_count": 84,
   "metadata": {},
   "outputs": [],
   "source": [
    "df_stats_top10_10.to_csv(\"./analysis output/Random data/\"+'File 6R_Top 10 wave 10 summary.csv')"
   ]
  },
  {
   "cell_type": "code",
   "execution_count": 28,
   "metadata": {},
   "outputs": [],
   "source": [
    "#df_stats_top10_10.to_csv(\"df_stats_top10_10.csv\")"
   ]
  },
  {
   "cell_type": "markdown",
   "metadata": {},
   "source": [
    "# Top 10 of ALL waves"
   ]
  },
  {
   "cell_type": "code",
   "execution_count": 29,
   "metadata": {},
   "outputs": [],
   "source": [
    "top10_ALL = [[\"Year\", \"Subgroup\", \"Quality\"]]\n",
    "row1_ALL = [\"ALL\", \"Poscountry=='Wrong'\", 0.177173]\n",
    "row2_ALL = [\"ALL\", \"EURef2016=='Remain'\", 0.162575]\n",
    "row3_ALL = [\"ALL\", \" EURef2016=='Remain' AND Poscountry=='Wrong'\", 0.158309]\n",
    "row4_ALL = [\"ALL\", \"Poscountry=='Wrong' AND education_age=='Not Asked or missing'\", 0.143873]\n",
    "row5_ALL = [\"ALL\", \"EURef2016=='Remain' AND Poscountry=='Wrong' AND education_age=='Not Asked or missing'\", 0.128038]\n",
    "row6_ALL = [\"ALL\", \"Posind=='Very negative effect'\", 0.122385]\n",
    "row7_ALL = [\"ALL\", \"EURef2016=='Remain' AND education_age=='Not Asked or missing'\", 0.120185]\n",
    "row8_ALL = [\"ALL\", \"Poscountry=='Wrong' AND Posind=='Very negative effect'\", 0.118520]\n",
    "row9_ALL = [\"ALL\", \"Govthand=='Very badly' AND Poscountry=='Wrong'\", 0.117378]\n",
    "row10_ALL = [\"ALL\", \"EURef2016=='Remain' AND Govthand=='Very badly'\",0.109007]\n",
    "top10_ALL.append(row1_ALL)\n",
    "top10_ALL.append(row2_ALL)\n",
    "top10_ALL.append(row3_ALL)\n",
    "top10_ALL.append(row4_ALL)\n",
    "top10_ALL.append(row5_ALL)\n",
    "top10_ALL.append(row6_ALL)\n",
    "top10_ALL.append(row7_ALL)\n",
    "top10_ALL.append(row8_ALL)\n",
    "top10_ALL.append(row9_ALL)\n",
    "top10_ALL.append(row10_ALL)"
   ]
  },
  {
   "cell_type": "code",
   "execution_count": 30,
   "metadata": {},
   "outputs": [],
   "source": [
    "df_ALL = pd.DataFrame(top10_ALL[1:], columns=top10_ALL[0])"
   ]
  },
  {
   "cell_type": "code",
   "execution_count": 31,
   "metadata": {
    "scrolled": false
   },
   "outputs": [
    {
     "data": {
      "text/html": [
       "<div>\n",
       "<style scoped>\n",
       "    .dataframe tbody tr th:only-of-type {\n",
       "        vertical-align: middle;\n",
       "    }\n",
       "\n",
       "    .dataframe tbody tr th {\n",
       "        vertical-align: top;\n",
       "    }\n",
       "\n",
       "    .dataframe thead th {\n",
       "        text-align: right;\n",
       "    }\n",
       "</style>\n",
       "<table border=\"1\" class=\"dataframe\">\n",
       "  <thead>\n",
       "    <tr style=\"text-align: right;\">\n",
       "      <th></th>\n",
       "      <th>Year</th>\n",
       "      <th>Subgroup</th>\n",
       "      <th>Quality</th>\n",
       "    </tr>\n",
       "  </thead>\n",
       "  <tbody>\n",
       "    <tr>\n",
       "      <th>0</th>\n",
       "      <td>ALL</td>\n",
       "      <td>Poscountry=='Wrong'</td>\n",
       "      <td>0.177173</td>\n",
       "    </tr>\n",
       "    <tr>\n",
       "      <th>1</th>\n",
       "      <td>ALL</td>\n",
       "      <td>EURef2016=='Remain'</td>\n",
       "      <td>0.162575</td>\n",
       "    </tr>\n",
       "    <tr>\n",
       "      <th>2</th>\n",
       "      <td>ALL</td>\n",
       "      <td>EURef2016=='Remain' AND Poscountry=='Wrong'</td>\n",
       "      <td>0.158309</td>\n",
       "    </tr>\n",
       "    <tr>\n",
       "      <th>3</th>\n",
       "      <td>ALL</td>\n",
       "      <td>Poscountry=='Wrong' AND education_age=='Not As...</td>\n",
       "      <td>0.143873</td>\n",
       "    </tr>\n",
       "    <tr>\n",
       "      <th>4</th>\n",
       "      <td>ALL</td>\n",
       "      <td>EURef2016=='Remain' AND Poscountry=='Wrong' AN...</td>\n",
       "      <td>0.128038</td>\n",
       "    </tr>\n",
       "    <tr>\n",
       "      <th>5</th>\n",
       "      <td>ALL</td>\n",
       "      <td>Posind=='Very negative effect'</td>\n",
       "      <td>0.122385</td>\n",
       "    </tr>\n",
       "    <tr>\n",
       "      <th>6</th>\n",
       "      <td>ALL</td>\n",
       "      <td>EURef2016=='Remain' AND education_age=='Not As...</td>\n",
       "      <td>0.120185</td>\n",
       "    </tr>\n",
       "    <tr>\n",
       "      <th>7</th>\n",
       "      <td>ALL</td>\n",
       "      <td>Poscountry=='Wrong' AND Posind=='Very negative...</td>\n",
       "      <td>0.118520</td>\n",
       "    </tr>\n",
       "    <tr>\n",
       "      <th>8</th>\n",
       "      <td>ALL</td>\n",
       "      <td>Govthand=='Very badly' AND Poscountry=='Wrong'</td>\n",
       "      <td>0.117378</td>\n",
       "    </tr>\n",
       "    <tr>\n",
       "      <th>9</th>\n",
       "      <td>ALL</td>\n",
       "      <td>EURef2016=='Remain' AND Govthand=='Very badly'</td>\n",
       "      <td>0.109007</td>\n",
       "    </tr>\n",
       "  </tbody>\n",
       "</table>\n",
       "</div>"
      ],
      "text/plain": [
       "  Year                                           Subgroup   Quality\n",
       "0  ALL                                Poscountry=='Wrong'  0.177173\n",
       "1  ALL                                EURef2016=='Remain'  0.162575\n",
       "2  ALL        EURef2016=='Remain' AND Poscountry=='Wrong'  0.158309\n",
       "3  ALL  Poscountry=='Wrong' AND education_age=='Not As...  0.143873\n",
       "4  ALL  EURef2016=='Remain' AND Poscountry=='Wrong' AN...  0.128038\n",
       "5  ALL                     Posind=='Very negative effect'  0.122385\n",
       "6  ALL  EURef2016=='Remain' AND education_age=='Not As...  0.120185\n",
       "7  ALL  Poscountry=='Wrong' AND Posind=='Very negative...  0.118520\n",
       "8  ALL     Govthand=='Very badly' AND Poscountry=='Wrong'  0.117378\n",
       "9  ALL     EURef2016=='Remain' AND Govthand=='Very badly'  0.109007"
      ]
     },
     "execution_count": 31,
     "metadata": {},
     "output_type": "execute_result"
    }
   ],
   "source": [
    "df_ALL"
   ]
  },
  {
   "cell_type": "code",
   "execution_count": 93,
   "metadata": {},
   "outputs": [],
   "source": [
    "df_ALL.to_csv(\"./analysis output/Random data/\"+'File 7R_Top 10 ALL waves summary.csv')"
   ]
  },
  {
   "cell_type": "code",
   "execution_count": 32,
   "metadata": {},
   "outputs": [],
   "source": [
    "df_temp = pd.DataFrame(df_ALL[\"Quality\"].copy())\n",
    "df_temp[\"Number\"] = [1, 2, 3, 4 ,5 ,6 ,7 ,8 ,9, 10]"
   ]
  },
  {
   "cell_type": "code",
   "execution_count": 33,
   "metadata": {},
   "outputs": [],
   "source": [
    "df_temp1 = pd.DataFrame(df_stats_top10[\"New Quality\"].copy())\n",
    "df_temp1[\"Number\"] = [1, 2, 3, 4 ,5 ,6 ,7 ,8 ,9, 10]"
   ]
  },
  {
   "cell_type": "code",
   "execution_count": 37,
   "metadata": {},
   "outputs": [],
   "source": [
    "df_temp2 = pd.DataFrame(df_stats_top10[\"Old Quality\"].copy())\n",
    "df_temp2[\"Number\"] = [1, 2, 3, 4 ,5 ,6 ,7 ,8 ,9, 10]"
   ]
  },
  {
   "cell_type": "code",
   "execution_count": 40,
   "metadata": {},
   "outputs": [],
   "source": [
    "df_plot = pd.merge(df_temp,df_temp1,on= \"Number\", how = \"inner\")\n",
    "df_plot = pd.merge(df_plot,df_temp2,on= \"Number\", how = \"inner\")"
   ]
  },
  {
   "cell_type": "code",
   "execution_count": 87,
   "metadata": {},
   "outputs": [
    {
     "data": {
      "image/png": "[encoded data removed]",
      "text/plain": [
       "<Figure size 432x288 with 1 Axes>"
      ]
     },
     "metadata": {
      "needs_background": "light"
     },
     "output_type": "display_data"
    }
   ],
   "source": [
    "plot3 = df_plot[[\"Quality\", \"New Quality\", \"Old Quality\"]].plot().get_figure();\n",
    "plt.xlabel('Subgroup')\n",
    "plt.ylabel('Quality')\n",
    "plot3;"
   ]
  },
  {
   "cell_type": "code",
   "execution_count": 92,
   "metadata": {},
   "outputs": [],
   "source": [
    "plot3.savefig(\"./analysis output/Random data/\"+'Figure 3_Top10 ALL vs Top10 Wave 1.png')"
   ]
  }
 ],
 "metadata": {
  "kernelspec": {
   "display_name": "Python 3",
   "language": "python",
   "name": "python3"
  },
  "language_info": {
   "codemirror_mode": {
    "name": "ipython",
    "version": 3
   },
   "file_extension": ".py",
   "mimetype": "text/x-python",
   "name": "python",
   "nbconvert_exporter": "python",
   "pygments_lexer": "ipython3",
   "version": "3.8.5"
  }
 },
 "nbformat": 4,
 "nbformat_minor": 4
}
